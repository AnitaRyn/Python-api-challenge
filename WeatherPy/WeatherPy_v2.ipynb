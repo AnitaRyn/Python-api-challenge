{
 "cells": [
  {
   "cell_type": "code",
   "execution_count": 1,
   "id": "5a765d12",
   "metadata": {},
   "outputs": [
    {
     "name": "stdout",
     "output_type": "stream",
     "text": [
      "Requirement already satisfied: citipy in c:\\users\\anita\\anaconda3\\lib\\site-packages (0.0.5)\n",
      "Requirement already satisfied: kdtree>=0.12 in c:\\users\\anita\\anaconda3\\lib\\site-packages (from citipy) (0.16)\n"
     ]
    }
   ],
   "source": [
    "# Dependencies and Setup\n",
    "!pip install citipy\n",
    "import matplotlib.pyplot as plt\n",
    "import pandas as pd\n",
    "import numpy as np\n",
    "import requests\n",
    "import time\n",
    "from scipy.stats import linregress\n",
    "from scipy import stats\n",
    "\n",
    "# Import API key\n",
    "from api_keys import weather_api_key\n",
    "\n",
    "# Incorporated citipy to determine city based on latitude and longitude\n",
    "from citipy import citipy\n",
    "\n",
    "# Output File (CSV)\n",
    "output_data_file = \"weather_data.csv\"\n",
    "\n",
    "# Range of latitudes and longitudes\n",
    "lat_range = (-90, 90)\n",
    "lng_range = (-180, 180)"
   ]
  },
  {
   "cell_type": "code",
   "execution_count": 2,
   "id": "f2ad530e",
   "metadata": {},
   "outputs": [],
   "source": [
    " # List for holding lat_lngs and cities\n",
    "lat_lngs = []\n",
    "cities = []"
   ]
  },
  {
   "cell_type": "code",
   "execution_count": 3,
   "id": "5f8e8657",
   "metadata": {},
   "outputs": [],
   "source": [
    "# Create a set of random lat and lng combinations\n",
    "lats = np.random.uniform(lat_range[0], lat_range[1], size=1500)\n",
    "lngs = np.random.uniform(lng_range[0], lng_range[1], size=1500)\n",
    "lat_lngs = zip(lats, lngs)"
   ]
  },
  {
   "cell_type": "code",
   "execution_count": 4,
   "id": "6e338377",
   "metadata": {},
   "outputs": [],
   "source": [
    "for lat_lng in lat_lngs:\n",
    "    city = citipy.nearest_city(lat_lng[0], lat_lng[1]).city_name\n",
    "    \n",
    "    if city not in cities:\n",
    "        cities.append(city)"
   ]
  },
  {
   "cell_type": "code",
   "execution_count": 5,
   "id": "349fac2b",
   "metadata": {},
   "outputs": [
    {
     "data": {
      "text/plain": [
       "621"
      ]
     },
     "execution_count": 5,
     "metadata": {},
     "output_type": "execute_result"
    }
   ],
   "source": [
    "len(cities)"
   ]
  },
  {
   "cell_type": "code",
   "execution_count": 6,
   "id": "c789ea88",
   "metadata": {},
   "outputs": [
    {
     "name": "stdout",
     "output_type": "stream",
     "text": [
      "['porto novo', 'yellowknife', 'geraldton', 'iaciara', 'hobart', 'nanortalik', 'bluff', 'nouadhibou', 'port alfred', 'sahrak', 'kahului', 'nguiu', 'ushuaia', 'kapaa', 'jamestown', 'taolanaro', 'aksarka', 'burla', 'vaitupu', 'las cruces', 'victoria', 'hermanus', 'namibe', 'clyde river', 'naples', 'bonavista', 'longyearbyen', 'kaitangata', 'kirakira', 'vaini', 'fernie', 'mataura', 'ribeira grande', 'kloulklubed', 'beringovskiy', 'arraial do cabo', 'deputatskiy', 'iskitim', 'pisco', 'touros', 'provideniya', 'tuktoyaktuk', 'semey', 'bredasdorp', 'zhigansk', 'toyooka', 'puerto ayora', 'aleksandrovsk-sakhalinskiy', 'rikitea', 'dunedin', 'bengkulu', 'illoqqortoormiut', 'khatanga', 'arequipa', 'buala', 'butaritari', 'nikolskoye', 'itoman', 'saint-georges', 'birao', 'yulara', 'albany', 'chabahar', 'punta arenas', 'sens', 'mys shmidta', 'busselton', 'chuy', 'beyneu', 'cabedelo', 'oranjemund', 'atuona', 'klaksvik', 'cape town', 'crab hill', 'champerico', 'dekar', 'saint anthony', 'anloga', 'skibbereen', 'esperance', 'mandalgovi', 'broome', 'husavik', 'hilo', 'saint george', 'minsk', 'santa ana', 'juba', 'castro', 'barrow', 'carnarvon', 'bilibino', 'alabaster', 'lavrentiya', 'imbituba', 'doume', 'narsaq', 'dikson', 'henties bay', 'ixtapa', 'attawapiskat', 'salalah', 'lampa', 'soe', 'saskylakh', 'nizhneyansk', 'nokaneng', 'mancio lima', 'banff', 'cabo san lucas', 'lebu', 'kochubey', 'haines junction', 'tasiilaq', 'mombetsu', 'thompson', 'swan river', 'sataua', 'mar del plata', 'agadez', 'chokurdakh', 'port elizabeth', 'ouro preto', 'iqaluit', 'petropavlovsk-kamchatskiy', 'bud', 'kosa', 'cherskiy', 'san quintin', 'torbay', 'saint-philippe', 'upernavik', 'nemuro', 'tekeli', 'pangnirtung', 'dzhebariki-khaya', 'imperia', 'bambous virieux', 'mwene-ditu', 'mount pleasant', 'mendahara', 'flinders', 'ndele', 'hirara', 'ponta do sol', 'phan thiet', 'hithadhoo', 'hayden', 'hunza', 'rocha', 'fortuna', 'san cristobal', 'ilo', 'abalak', 'tiksi', 'east london', 'turtkul', 'comodoro rivadavia', 'airai', 'palabuhanratu', 'kavieng', 'sao miguel do araguaia', 'kruisfontein', 'kiomboi', 'ketchikan', 'kuching', 'namatanai', 'povoa de varzim', 'mzimba', 'bathsheba', 'broken hill', 'marcona', 'portland', 'constitucion', 'tsihombe', 'umba', 'swift current', 'faanui', 'honiara', 'arman', 'brigantine', 'golden', 'westport', 'samusu', 'cidreira', 'port shepstone', 'tanete', 'aguia branca', 'georgetown', 'rosarito', 'barentsburg', 'rognan', 'redcliffe', 'humberto de campos', 'paita', 'kontagora', 'marsh harbour', 'iquitos', 'merauke', 'tuatapere', 'donskoye', 'bac lieu', 'new norfolk', 'palm beach', 'yantongshan', 'codrington', 'avarua', 'coffs harbour', 'kralendijk', 'kodiak', 'warragul', 'soyo', 'alexandria', 'impfondo', 'ruatoria', 'najran', 'zhangjiakou', 'amapa', 'chagda', 'lompoc', 'cay', 'aflu', 'kidal', 'belushya guba', 'vardo', 'eldikan', 'vilyuysk', 'buta', 'stony plain', 'toliary', 'yefira', 'jacareacanga', 'vila velha', 'indramayu', 'aklavik', 'katsiveli', 'havoysund', 'nizhnekamsk', 'yirol', 'kawalu', 'rovaniemi', 'bundaberg', 'prestea', 'kindu', 'saldanha', 'ampanihy', 'naze', 'tidore', 'gimli', 'moree', 'basco', 'bantou', 'pacific grove', 'cascais', 'bolungarvik', 'osinki', 'constantine', 'vostok', 'sola', 'puerto ayacucho', 'okhotsk', 'llano de piedra', 'san vicente', 'ciudad real', 'vestmannaeyjar', 'san patricio', 'adwa', 'artyk', 'manono', 'port-gentil', 'vaitape', 'sitka', 'ostrovnoy', 'sazonovo', 'zelenogorskiy', 'cockburn town', 'muros', 'vitoria', 'bonthe', 'altinopolis', 'douentza', 'hamilton', 'kavaratti', 'raudeberg', 'grindavik', 'kimbe', 'dalbandin', 'kamyshin', 'cartagena', 'kamsack', 'conceicao do araguaia', 'mullaitivu', 'baruun-urt', 'mergui', 'pasvalys', 'padang', 'talnakh', 'wanaka', 'mahebourg', 'khetri', 'skalistyy', 'isla vista', 'centralia', 'port hedland', 'scottsbluff', 'sovetskiy', 'calama', 'ahipara', 'morant bay', 'praia da vitoria', 'portobelo', 'chynov', 'jalu', 'ancud', 'san pedro de macoris', 'sur', 'dwarka', 'chato', 'ruidoso', 'avera', 'sentyabrskiy', 'kushiro', 'mount gambier', 'aginskoye', 'xining', 'tondano', 'nadym', 'poum', 'novotroitsk', 'hasaki', 'praia', 'caravelas', 'oil city', 'kerteh', 'malampaka', 'balc', 'severo-kurilsk', 'ilulissat', 'norman wells', 'chatellerault', 'plettenberg bay', 'molina', 'abha', 'nanyang', 'dancheng', 'puerto escondido', 'vao', 'okandja', 'antalaha', 'adrar', 'gizo', 'wroclaw', 'huacho', 'kaabong', 'bethel', 'leh', 'qaanaaq', 'mbaiki', 'helong', 'gazoros', 'pevek', 'bilma', 'gao', 'banda aceh', 'yar-sale', 'okahandja', 'rumonge', 'angoche', 'andros', 'adre', 'trairi', 'waipawa', 'leningradskiy', 'tigzirt', 'karkaralinsk', 'guerrero negro', 'fevralsk', 'kiruna', 'matam', 'havre-saint-pierre', 'beaumont', 'yanan', 'rio gallegos', 'saleaula', 'terrell', 'san policarpo', 'urubamba', 'clermont', 'roma', 'milingimbi', 'asau', 'zyryanka', 'higuey', 'krasnogorskiy', 'egvekinot', 'palmer', 'bose', 'knysna', 'kushima', 'ipoti', 'macaboboni', 'pangkalanbuun', 'amantea', 'dawei', 'mwense', 'paranhos', 'richmond', 'guiratinga', 'salinopolis', 'luanda', 'lagoa', 'fengcheng', 'linjiang', 'harper', 'dukat', 'smalininkai', 'hervey bay', 'luoyang', 'hami', 'isangel', 'amga', 'charters towers', 'kyshtovka', 'hofn', 'sorgun', 'urumqi', 'kropotkin', 'umm kaddadah', 'sinnar', 'shingu', 'buenos aires', 'rubizhne', 'mitu', 'faya', 'saint-augustin', 'lorengau', 'honningsvag', 'clyde', 'takoradi', 'azimur', 'fecamp', 'coquimbo', 'alofi', 'gorgan', 'ochakiv', 'nome', 'bajil', 'albertville', 'eureka', 'along', 'jahrom', 'santa lucia', 'tera', 'ciudad bolivar', 'lewiston', 'mount isa', 'lokoja', 'bol', 'taoudenni', 'ijaki', 'porirua', 'pakokku', 'prado', 'chiredzi', 'pierre', 'beba', 'nabire', 'fuerte olimpo', 'luderitz', 'kleive', 'tungkang', 'inhambane', 'bandar-e anzali', 'the valley', 'hihifo', 'solovetskiy', 'axtla', 'grand river south east', 'fatehabad', 'tarsus', 'mahon', 'nishihara', 'paignton', 'simpang rengam', 'moa', 'koboko', 'heihe', 'zachagansk', 'albanel', 'paradwip', 'havelock', 'porbandar', 'lazaro cardenas', 'qaqortoq', 'kilindoni', 'bereda', 'tomarovka', 'carai', 'opuwo', 'grand gaube', 'grand centre', 'port lincoln', 'wladyslawowo', 'holme', 'umzimvubu', 'homestead', 'sorong', 'banikoara', 'san juan', 'opportunity', 'boende', 'hambantota', 'cecava', 'marzuq', 'farafangana', 'malwan', 'verkhoyansk', 'caetite', 'cheuskiny', 'tessalit', 'lukovit', 'sipe sipe', 'kikwit', 'jiaozuo', 'road town', 'talara', 'tonosho', 'bafq', 'arrifes', 'chitral', 'turukhansk', 'coahuayana', 'saint-michel-des-saints', 'teknaf', 'mayskiy', 'beyla', 'glubokoe', 'tazovskiy', 'kudahuvadhoo', 'sao filipe', 'ambon', 'mahibadhoo', 'mpongwe', 'cap malheureux', 'banes', 'erzin', 'bentiu', 'naberera', 'kenai', 'sedkyrkeshch', 'cayenne', 'digha', 'belmonte', 'lata', 'haibowan', 'newala', 'glendive', 'charlestown', 'krasnoselkup', 'kieta', 'harrisonburg', 'aquitania', 'quatre cocos', 'kaeo', 'lander', 'bridgewater', 'fethiye', 'naryan-mar', 'kortkeros', 'bergerac', 'jurm', 'rabo de peixe', 'vila', 'surt', 'ylivieska', 'olafsvik', 'biak', 'matagami', 'tafresh', 'christchurch', 'farmington', 'den helder', 'alyangula', 'uarini', 'shenzhen', 'saryozek', 'daye', 'gazojak', 'juneau', 'mayna', 'cacapava do sul', 'verkhnyaya inta', 'bargal', 'myanaung', 'dingle', 'aberdeen', 'komsomolskiy', 'mehamn', 'itarema', 'tahta', 'walvis bay', 'sinnamary', 'whitehorse', 'lolua', 'meulaboh', 'carutapera', 'olinda', 'roald', 'la ronge', 'dobsice', 'joutseno', 'waingapu', 'los llanos de aridane', 'fort nelson', 'tulun', 'laguna', 'kupang', 'ishigaki', 'humboldt', 'burgersdorp']\n"
     ]
    }
   ],
   "source": [
    "print(f\"{cities}\")"
   ]
  },
  {
   "cell_type": "code",
   "execution_count": 7,
   "id": "50c76aeb",
   "metadata": {},
   "outputs": [],
   "source": [
    "url = \"http://api.openweathermap.org/data/2.5/weather?\"\n",
    "units = \"metric\"\n",
    "query_url = f\"{url}appid={weather_api_key}&units={units}&q=\""
   ]
  },
  {
   "cell_type": "code",
   "execution_count": 8,
   "id": "e3c3b805",
   "metadata": {
    "scrolled": true
   },
   "outputs": [
    {
     "name": "stdout",
     "output_type": "stream",
     "text": [
      "http://api.openweathermap.org/data/2.5/weather?appid=811e3962187ddf32f6513558a7473185&units=metric&q=\n"
     ]
    }
   ],
   "source": [
    "print(query_url)"
   ]
  },
  {
   "cell_type": "code",
   "execution_count": 9,
   "id": "7168971b",
   "metadata": {},
   "outputs": [],
   "source": [
    "city_list = []\n",
    "lat_list = []\n",
    "lon_list = []\n",
    "max_temp_list = []\n",
    "humidity_list = []\n",
    "cloudiness_list = []\n",
    "wind_speed_list = []"
   ]
  },
  {
   "cell_type": "code",
   "execution_count": 10,
   "id": "ba23e736",
   "metadata": {},
   "outputs": [
    {
     "name": "stdout",
     "output_type": "stream",
     "text": [
      "Processing Recordporto novo\n",
      "Processing Recordyellowknife\n",
      "Processing Recordgeraldton\n",
      "Processing Recordiaciara\n",
      "Processing Recordhobart\n",
      "Processing Recordnanortalik\n",
      "Processing Recordbluff\n",
      "Processing Recordnouadhibou\n",
      "Processing Recordport alfred\n",
      "City not foundsahrak\n",
      "Processing Recordkahului\n",
      "City not foundnguiu\n",
      "Processing Recordushuaia\n",
      "Processing Recordkapaa\n",
      "Processing Recordjamestown\n",
      "City not foundtaolanaro\n",
      "Processing Recordaksarka\n",
      "Processing Recordburla\n",
      "City not foundvaitupu\n",
      "Processing Recordlas cruces\n",
      "Processing Recordvictoria\n",
      "Processing Recordhermanus\n",
      "Processing Recordnamibe\n",
      "Processing Recordclyde river\n",
      "Processing Recordnaples\n",
      "Processing Recordbonavista\n",
      "Processing Recordlongyearbyen\n",
      "Processing Recordkaitangata\n",
      "Processing Recordkirakira\n",
      "Processing Recordvaini\n",
      "Processing Recordfernie\n",
      "Processing Recordmataura\n",
      "Processing Recordribeira grande\n",
      "Processing Recordkloulklubed\n",
      "Processing Recordberingovskiy\n",
      "Processing Recordarraial do cabo\n",
      "Processing Recorddeputatskiy\n",
      "Processing Recordiskitim\n",
      "Processing Recordpisco\n",
      "Processing Recordtouros\n",
      "Processing Recordprovideniya\n",
      "Processing Recordtuktoyaktuk\n",
      "Processing Recordsemey\n",
      "Processing Recordbredasdorp\n",
      "Processing Recordzhigansk\n",
      "Processing Recordtoyooka\n",
      "Processing Recordpuerto ayora\n",
      "Processing Recordaleksandrovsk-sakhalinskiy\n",
      "Processing Recordrikitea\n",
      "Processing Recorddunedin\n",
      "Processing Recordbengkulu\n",
      "City not foundilloqqortoormiut\n",
      "Processing Recordkhatanga\n",
      "Processing Recordarequipa\n",
      "Processing Recordbuala\n",
      "Processing Recordbutaritari\n",
      "Processing Recordnikolskoye\n",
      "Processing Recorditoman\n",
      "Processing Recordsaint-georges\n",
      "Processing Recordbirao\n",
      "Processing Recordyulara\n",
      "Processing Recordalbany\n",
      "Processing Recordchabahar\n",
      "Processing Recordpunta arenas\n",
      "Processing Recordsens\n",
      "City not foundmys shmidta\n",
      "Processing Recordbusselton\n",
      "Processing Recordchuy\n",
      "Processing Recordbeyneu\n",
      "Processing Recordcabedelo\n",
      "Processing Recordoranjemund\n",
      "Processing Recordatuona\n",
      "Processing Recordklaksvik\n",
      "Processing Recordcape town\n",
      "City not foundcrab hill\n",
      "Processing Recordchamperico\n",
      "Processing Recorddekar\n",
      "Processing Recordsaint anthony\n",
      "Processing Recordanloga\n",
      "Processing Recordskibbereen\n",
      "Processing Recordesperance\n",
      "Processing Recordmandalgovi\n",
      "Processing Recordbroome\n",
      "Processing Recordhusavik\n",
      "Processing Recordhilo\n",
      "Processing Recordsaint george\n",
      "Processing Recordminsk\n",
      "Processing Recordsanta ana\n",
      "Processing Recordjuba\n",
      "Processing Recordcastro\n",
      "Processing Recordbarrow\n",
      "Processing Recordcarnarvon\n",
      "Processing Recordbilibino\n",
      "Processing Recordalabaster\n",
      "Processing Recordlavrentiya\n",
      "Processing Recordimbituba\n",
      "Processing Recorddoume\n",
      "Processing Recordnarsaq\n",
      "Processing Recorddikson\n",
      "Processing Recordhenties bay\n",
      "Processing Recordixtapa\n",
      "City not foundattawapiskat\n",
      "Processing Recordsalalah\n",
      "Processing Recordlampa\n",
      "Processing Recordsoe\n",
      "Processing Recordsaskylakh\n",
      "City not foundnizhneyansk\n",
      "Processing Recordnokaneng\n",
      "Processing Recordmancio lima\n",
      "Processing Recordbanff\n",
      "Processing Recordcabo san lucas\n",
      "Processing Recordlebu\n",
      "Processing Recordkochubey\n",
      "Processing Recordhaines junction\n",
      "Processing Recordtasiilaq\n",
      "Processing Recordmombetsu\n",
      "Processing Recordthompson\n",
      "Processing Recordswan river\n",
      "City not foundsataua\n",
      "Processing Recordmar del plata\n",
      "Processing Recordagadez\n",
      "Processing Recordchokurdakh\n",
      "Processing Recordport elizabeth\n",
      "Processing Recordouro preto\n",
      "Processing Recordiqaluit\n",
      "Processing Recordpetropavlovsk-kamchatskiy\n",
      "Processing Recordbud\n",
      "Processing Recordkosa\n",
      "Processing Recordcherskiy\n",
      "Processing Recordsan quintin\n",
      "Processing Recordtorbay\n",
      "Processing Recordsaint-philippe\n",
      "Processing Recordupernavik\n",
      "Processing Recordnemuro\n",
      "Processing Recordtekeli\n",
      "Processing Recordpangnirtung\n",
      "Processing Recorddzhebariki-khaya\n",
      "Processing Recordimperia\n",
      "Processing Recordbambous virieux\n",
      "Processing Recordmwene-ditu\n",
      "Processing Recordmount pleasant\n",
      "City not foundmendahara\n",
      "Processing Recordflinders\n",
      "Processing Recordndele\n",
      "Processing Recordhirara\n",
      "Processing Recordponta do sol\n",
      "Processing Recordphan thiet\n",
      "Processing Recordhithadhoo\n",
      "Processing Recordhayden\n",
      "City not foundhunza\n",
      "Processing Recordrocha\n",
      "Processing Recordfortuna\n",
      "Processing Recordsan cristobal\n",
      "Processing Recordilo\n",
      "Processing Recordabalak\n",
      "Processing Recordtiksi\n",
      "Processing Recordeast london\n",
      "City not foundturtkul\n",
      "Processing Recordcomodoro rivadavia\n",
      "Processing Recordairai\n",
      "City not foundpalabuhanratu\n",
      "Processing Recordkavieng\n",
      "Processing Recordsao miguel do araguaia\n",
      "Processing Recordkruisfontein\n",
      "Processing Recordkiomboi\n",
      "Processing Recordketchikan\n",
      "Processing Recordkuching\n",
      "Processing Recordnamatanai\n",
      "Processing Recordpovoa de varzim\n",
      "Processing Recordmzimba\n",
      "Processing Recordbathsheba\n",
      "Processing Recordbroken hill\n",
      "City not foundmarcona\n",
      "Processing Recordportland\n",
      "Processing Recordconstitucion\n",
      "City not foundtsihombe\n",
      "Processing Recordumba\n",
      "Processing Recordswift current\n",
      "Processing Recordfaanui\n",
      "Processing Recordhoniara\n",
      "Processing Recordarman\n",
      "Processing Recordbrigantine\n",
      "Processing Recordgolden\n",
      "Processing Recordwestport\n",
      "City not foundsamusu\n",
      "Processing Recordcidreira\n",
      "Processing Recordport shepstone\n",
      "Processing Recordtanete\n",
      "Processing Recordaguia branca\n",
      "Processing Recordgeorgetown\n",
      "Processing Recordrosarito\n",
      "City not foundbarentsburg\n",
      "Processing Recordrognan\n",
      "Processing Recordredcliffe\n",
      "Processing Recordhumberto de campos\n",
      "Processing Recordpaita\n",
      "Processing Recordkontagora\n",
      "Processing Recordmarsh harbour\n",
      "Processing Recordiquitos\n",
      "Processing Recordmerauke\n",
      "Processing Recordtuatapere\n",
      "Processing Recorddonskoye\n",
      "Processing Recordbac lieu\n",
      "Processing Recordnew norfolk\n",
      "Processing Recordpalm beach\n",
      "Processing Recordyantongshan\n",
      "Processing Recordcodrington\n",
      "Processing Recordavarua\n",
      "Processing Recordcoffs harbour\n",
      "Processing Recordkralendijk\n",
      "Processing Recordkodiak\n",
      "Processing Recordwarragul\n",
      "Processing Recordsoyo\n",
      "Processing Recordalexandria\n",
      "Processing Recordimpfondo\n",
      "City not foundruatoria\n",
      "Processing Recordnajran\n",
      "Processing Recordzhangjiakou\n",
      "Processing Recordamapa\n",
      "City not foundchagda\n",
      "Processing Recordlompoc\n",
      "Processing Recordcay\n",
      "City not foundaflu\n",
      "Processing Recordkidal\n",
      "City not foundbelushya guba\n",
      "Processing Recordvardo\n",
      "City not foundeldikan\n",
      "Processing Recordvilyuysk\n",
      "Processing Recordbuta\n",
      "Processing Recordstony plain\n",
      "City not foundtoliary\n",
      "City not foundyefira\n",
      "Processing Recordjacareacanga\n",
      "Processing Recordvila velha\n",
      "Processing Recordindramayu\n",
      "Processing Recordaklavik\n",
      "City not foundkatsiveli\n",
      "Processing Recordhavoysund\n",
      "Processing Recordnizhnekamsk\n",
      "City not foundyirol\n",
      "Processing Recordkawalu\n",
      "Processing Recordrovaniemi\n",
      "Processing Recordbundaberg\n",
      "Processing Recordprestea\n",
      "Processing Recordkindu\n",
      "Processing Recordsaldanha\n",
      "Processing Recordampanihy\n",
      "Processing Recordnaze\n",
      "City not foundtidore\n",
      "Processing Recordgimli\n",
      "Processing Recordmoree\n",
      "Processing Recordbasco\n",
      "Processing Recordbantou\n",
      "Processing Recordpacific grove\n",
      "Processing Recordcascais\n",
      "City not foundbolungarvik\n",
      "Processing Recordosinki\n",
      "Processing Recordconstantine\n",
      "Processing Recordvostok\n",
      "Processing Recordsola\n",
      "Processing Recordpuerto ayacucho\n",
      "Processing Recordokhotsk\n",
      "Processing Recordllano de piedra\n",
      "Processing Recordsan vicente\n",
      "Processing Recordciudad real\n",
      "Processing Recordvestmannaeyjar\n",
      "Processing Recordsan patricio\n",
      "Processing Recordadwa\n",
      "City not foundartyk\n",
      "Processing Recordmanono\n",
      "Processing Recordport-gentil\n",
      "Processing Recordvaitape\n",
      "Processing Recordsitka\n",
      "Processing Recordostrovnoy\n",
      "Processing Recordsazonovo\n",
      "Processing Recordzelenogorskiy\n",
      "Processing Recordcockburn town\n",
      "Processing Recordmuros\n",
      "Processing Recordvitoria\n",
      "Processing Recordbonthe\n",
      "Processing Recordaltinopolis\n",
      "Processing Recorddouentza\n",
      "Processing Recordhamilton\n",
      "Processing Recordkavaratti\n",
      "Processing Recordraudeberg\n",
      "Processing Recordgrindavik\n",
      "Processing Recordkimbe\n",
      "Processing Recorddalbandin\n",
      "Processing Recordkamyshin\n",
      "Processing Recordcartagena\n",
      "Processing Recordkamsack\n",
      "Processing Recordconceicao do araguaia\n",
      "City not foundmullaitivu\n",
      "Processing Recordbaruun-urt\n",
      "City not foundmergui\n",
      "Processing Recordpasvalys\n",
      "Processing Recordpadang\n",
      "Processing Recordtalnakh\n",
      "Processing Recordwanaka\n",
      "Processing Recordmahebourg\n",
      "Processing Recordkhetri\n",
      "City not foundskalistyy\n",
      "Processing Recordisla vista\n",
      "Processing Recordcentralia\n",
      "Processing Recordport hedland\n",
      "Processing Recordscottsbluff\n",
      "Processing Recordsovetskiy\n",
      "Processing Recordcalama\n",
      "Processing Recordahipara\n",
      "Processing Recordmorant bay\n",
      "Processing Recordpraia da vitoria\n",
      "Processing Recordportobelo\n",
      "Processing Recordchynov\n",
      "Processing Recordjalu\n",
      "Processing Recordancud\n",
      "Processing Recordsan pedro de macoris\n",
      "Processing Recordsur\n",
      "Processing Recorddwarka\n",
      "Processing Recordchato\n",
      "Processing Recordruidoso\n",
      "Processing Recordavera\n",
      "City not foundsentyabrskiy\n",
      "Processing Recordkushiro\n",
      "Processing Recordmount gambier\n",
      "Processing Recordaginskoye\n",
      "Processing Recordxining\n",
      "Processing Recordtondano\n",
      "Processing Recordnadym\n",
      "Processing Recordpoum\n",
      "Processing Recordnovotroitsk\n",
      "Processing Recordhasaki\n",
      "Processing Recordpraia\n",
      "Processing Recordcaravelas\n",
      "Processing Recordoil city\n",
      "City not foundkerteh\n",
      "Processing Recordmalampaka\n",
      "Processing Recordbalc\n",
      "Processing Recordsevero-kurilsk\n",
      "Processing Recordilulissat\n",
      "Processing Recordnorman wells\n",
      "Processing Recordchatellerault\n",
      "Processing Recordplettenberg bay\n",
      "Processing Recordmolina\n",
      "Processing Recordabha\n",
      "Processing Recordnanyang\n",
      "Processing Recorddancheng\n",
      "Processing Recordpuerto escondido\n",
      "Processing Recordvao\n",
      "City not foundokandja\n",
      "Processing Recordantalaha\n",
      "Processing Recordadrar\n",
      "Processing Recordgizo\n",
      "Processing Recordwroclaw\n",
      "Processing Recordhuacho\n",
      "Processing Recordkaabong\n",
      "Processing Recordbethel\n",
      "Processing Recordleh\n",
      "Processing Recordqaanaaq\n",
      "Processing Recordmbaiki\n",
      "Processing Recordhelong\n",
      "Processing Recordgazoros\n",
      "Processing Recordpevek\n",
      "Processing Recordbilma\n",
      "Processing Recordgao\n",
      "Processing Recordbanda aceh\n",
      "Processing Recordyar-sale\n",
      "Processing Recordokahandja\n",
      "Processing Recordrumonge\n",
      "Processing Recordangoche\n",
      "Processing Recordandros\n",
      "Processing Recordadre\n",
      "Processing Recordtrairi\n",
      "Processing Recordwaipawa\n",
      "Processing Recordleningradskiy\n",
      "Processing Recordtigzirt\n",
      "City not foundkarkaralinsk\n",
      "Processing Recordguerrero negro\n",
      "City not foundfevralsk\n",
      "Processing Recordkiruna\n",
      "Processing Recordmatam\n",
      "Processing Recordhavre-saint-pierre\n",
      "Processing Recordbeaumont\n",
      "City not foundyanan\n",
      "Processing Recordrio gallegos\n",
      "City not foundsaleaula\n",
      "Processing Recordterrell\n",
      "Processing Recordsan policarpo\n",
      "Processing Recordurubamba\n",
      "Processing Recordclermont\n",
      "Processing Recordroma\n",
      "City not foundmilingimbi\n",
      "Processing Recordasau\n",
      "Processing Recordzyryanka\n",
      "City not foundhiguey\n",
      "Processing Recordkrasnogorskiy\n",
      "Processing Recordegvekinot\n",
      "Processing Recordpalmer\n",
      "Processing Recordbose\n",
      "Processing Recordknysna\n",
      "Processing Recordkushima\n",
      "Processing Recordipoti\n",
      "City not foundmacaboboni\n",
      "Processing Recordpangkalanbuun\n",
      "Processing Recordamantea\n",
      "Processing Recorddawei\n",
      "Processing Recordmwense\n",
      "Processing Recordparanhos\n",
      "Processing Recordrichmond\n",
      "Processing Recordguiratinga\n",
      "Processing Recordsalinopolis\n",
      "Processing Recordluanda\n",
      "Processing Recordlagoa\n",
      "Processing Recordfengcheng\n",
      "Processing Recordlinjiang\n",
      "Processing Recordharper\n",
      "Processing Recorddukat\n",
      "Processing Recordsmalininkai\n",
      "Processing Recordhervey bay\n",
      "Processing Recordluoyang\n",
      "Processing Recordhami\n",
      "Processing Recordisangel\n",
      "Processing Recordamga\n",
      "Processing Recordcharters towers\n",
      "Processing Recordkyshtovka\n",
      "Processing Recordhofn\n",
      "Processing Recordsorgun\n",
      "Processing Recordurumqi\n",
      "Processing Recordkropotkin\n",
      "Processing Recordumm kaddadah\n",
      "Processing Recordsinnar\n",
      "Processing Recordshingu\n",
      "Processing Recordbuenos aires\n",
      "Processing Recordrubizhne\n",
      "Processing Recordmitu\n",
      "Processing Recordfaya\n",
      "Processing Recordsaint-augustin\n",
      "Processing Recordlorengau\n",
      "Processing Recordhonningsvag\n",
      "Processing Recordclyde\n",
      "Processing Recordtakoradi\n",
      "City not foundazimur\n",
      "Processing Recordfecamp\n",
      "Processing Recordcoquimbo\n",
      "Processing Recordalofi\n",
      "Processing Recordgorgan\n",
      "Processing Recordochakiv\n",
      "Processing Recordnome\n",
      "Processing Recordbajil\n",
      "Processing Recordalbertville\n",
      "Processing Recordeureka\n",
      "Processing Recordalong\n",
      "City not foundjahrom\n",
      "Processing Recordsanta lucia\n",
      "Processing Recordtera\n",
      "Processing Recordciudad bolivar\n",
      "Processing Recordlewiston\n",
      "Processing Recordmount isa\n",
      "Processing Recordlokoja\n",
      "Processing Recordbol\n",
      "Processing Recordtaoudenni\n",
      "City not foundijaki\n",
      "Processing Recordporirua\n",
      "Processing Recordpakokku\n",
      "Processing Recordprado\n",
      "Processing Recordchiredzi\n",
      "Processing Recordpierre\n",
      "Processing Recordbeba\n",
      "Processing Recordnabire\n",
      "Processing Recordfuerte olimpo\n",
      "Processing Recordluderitz\n",
      "Processing Recordkleive\n",
      "City not foundtungkang\n",
      "Processing Recordinhambane\n",
      "Processing Recordbandar-e anzali\n",
      "Processing Recordthe valley\n",
      "City not foundhihifo\n",
      "City not foundsolovetskiy\n",
      "City not foundaxtla\n",
      "City not foundgrand river south east\n",
      "Processing Recordfatehabad\n",
      "Processing Recordtarsus\n",
      "Processing Recordmahon\n",
      "Processing Recordnishihara\n",
      "Processing Recordpaignton\n",
      "City not foundsimpang rengam\n",
      "Processing Recordmoa\n",
      "Processing Recordkoboko\n",
      "Processing Recordheihe\n",
      "City not foundzachagansk\n",
      "Processing Recordalbanel\n",
      "City not foundparadwip\n",
      "Processing Recordhavelock\n",
      "Processing Recordporbandar\n",
      "Processing Recordlazaro cardenas\n",
      "Processing Recordqaqortoq\n",
      "Processing Recordkilindoni\n",
      "Processing Recordbereda\n",
      "Processing Recordtomarovka\n",
      "Processing Recordcarai\n",
      "Processing Recordopuwo\n",
      "Processing Recordgrand gaube\n",
      "City not foundgrand centre\n",
      "Processing Recordport lincoln\n",
      "Processing Recordwladyslawowo\n",
      "Processing Recordholme\n",
      "City not foundumzimvubu\n",
      "Processing Recordhomestead\n",
      "Processing Recordsorong\n",
      "Processing Recordbanikoara\n",
      "Processing Recordsan juan\n",
      "Processing Recordopportunity\n",
      "Processing Recordboende\n",
      "Processing Recordhambantota\n",
      "Processing Recordcecava\n",
      "Processing Recordmarzuq\n",
      "Processing Recordfarafangana\n",
      "City not foundmalwan\n",
      "Processing Recordverkhoyansk\n",
      "Processing Recordcaetite\n",
      "City not foundcheuskiny\n",
      "Processing Recordtessalit\n",
      "Processing Recordlukovit\n",
      "Processing Recordsipe sipe\n",
      "Processing Recordkikwit\n",
      "Processing Recordjiaozuo\n",
      "Processing Recordroad town\n",
      "Processing Recordtalara\n",
      "Processing Recordtonosho\n",
      "Processing Recordbafq\n",
      "Processing Recordarrifes\n",
      "Processing Recordchitral\n",
      "Processing Recordturukhansk\n",
      "Processing Recordcoahuayana\n",
      "Processing Recordsaint-michel-des-saints\n",
      "Processing Recordteknaf\n",
      "Processing Recordmayskiy\n",
      "Processing Recordbeyla\n",
      "City not foundglubokoe\n",
      "Processing Recordtazovskiy\n",
      "Processing Recordkudahuvadhoo\n",
      "Processing Recordsao filipe\n",
      "Processing Recordambon\n",
      "Processing Recordmahibadhoo\n",
      "Processing Recordmpongwe\n",
      "Processing Recordcap malheureux\n",
      "Processing Recordbanes\n",
      "Processing Recorderzin\n",
      "Processing Recordbentiu\n",
      "Processing Recordnaberera\n",
      "Processing Recordkenai\n",
      "Processing Recordsedkyrkeshch\n",
      "Processing Recordcayenne\n",
      "Processing Recorddigha\n",
      "Processing Recordbelmonte\n",
      "Processing Recordlata\n",
      "City not foundhaibowan\n",
      "Processing Recordnewala\n",
      "Processing Recordglendive\n",
      "Processing Recordcharlestown\n",
      "Processing Recordkrasnoselkup\n",
      "Processing Recordkieta\n",
      "Processing Recordharrisonburg\n",
      "Processing Recordaquitania\n",
      "Processing Recordquatre cocos\n",
      "Processing Recordkaeo\n",
      "Processing Recordlander\n",
      "Processing Recordbridgewater\n",
      "Processing Recordfethiye\n",
      "Processing Recordnaryan-mar\n",
      "Processing Recordkortkeros\n",
      "Processing Recordbergerac\n",
      "Processing Recordjurm\n",
      "Processing Recordrabo de peixe\n",
      "Processing Recordvila\n",
      "Processing Recordsurt\n",
      "Processing Recordylivieska\n",
      "Processing Recordolafsvik\n",
      "Processing Recordbiak\n",
      "Processing Recordmatagami\n",
      "Processing Recordtafresh\n",
      "Processing Recordchristchurch\n",
      "Processing Recordfarmington\n",
      "Processing Recordden helder\n",
      "Processing Recordalyangula\n",
      "Processing Recorduarini\n",
      "Processing Recordshenzhen\n",
      "Processing Recordsaryozek\n",
      "Processing Recorddaye\n",
      "Processing Recordgazojak\n",
      "Processing Recordjuneau\n",
      "Processing Recordmayna\n",
      "Processing Recordcacapava do sul\n",
      "Processing Recordverkhnyaya inta\n",
      "City not foundbargal\n",
      "Processing Recordmyanaung\n",
      "Processing Recorddingle\n",
      "Processing Recordaberdeen\n",
      "Processing Recordkomsomolskiy\n",
      "Processing Recordmehamn\n",
      "Processing Recorditarema\n",
      "Processing Recordtahta\n",
      "Processing Recordwalvis bay\n",
      "Processing Recordsinnamary\n",
      "Processing Recordwhitehorse\n",
      "City not foundlolua\n",
      "Processing Recordmeulaboh\n",
      "Processing Recordcarutapera\n",
      "Processing Recordolinda\n",
      "Processing Recordroald\n",
      "Processing Recordla ronge\n",
      "Processing Recorddobsice\n",
      "Processing Recordjoutseno\n",
      "Processing Recordwaingapu\n",
      "Processing Recordlos llanos de aridane\n",
      "Processing Recordfort nelson\n",
      "Processing Recordtulun\n",
      "Processing Recordlaguna\n",
      "Processing Recordkupang\n",
      "Processing Recordishigaki\n",
      "Processing Recordhumboldt\n",
      "Processing Recordburgersdorp\n"
     ]
    }
   ],
   "source": [
    "for city in cities:\n",
    "    response = requests.get(query_url + city).json()\n",
    "    \n",
    "    try: \n",
    "        city_list.append(response['name'])\n",
    "        lat_list.append(response['coord']['lat'])\n",
    "        lon_list.append(response['coord']['lon'])\n",
    "        max_temp_list.append(response['main']['temp_max'])\n",
    "        humidity_list.append(response['main']['humidity'])\n",
    "        cloudiness_list.append(response['clouds']['all'])\n",
    "        wind_speed_list.append(response['wind']['speed'])\n",
    "        print(\"Processing Record\" + city)\n",
    "    \n",
    "    except: \n",
    "        print(\"City not found\" + city)\n",
    "        "
   ]
  },
  {
   "cell_type": "code",
   "execution_count": 11,
   "id": "39562231",
   "metadata": {},
   "outputs": [
    {
     "data": {
      "text/html": [
       "<div>\n",
       "<style scoped>\n",
       "    .dataframe tbody tr th:only-of-type {\n",
       "        vertical-align: middle;\n",
       "    }\n",
       "\n",
       "    .dataframe tbody tr th {\n",
       "        vertical-align: top;\n",
       "    }\n",
       "\n",
       "    .dataframe thead th {\n",
       "        text-align: right;\n",
       "    }\n",
       "</style>\n",
       "<table border=\"1\" class=\"dataframe\">\n",
       "  <thead>\n",
       "    <tr style=\"text-align: right;\">\n",
       "      <th></th>\n",
       "      <th>City</th>\n",
       "      <th>Lat</th>\n",
       "      <th>Lng</th>\n",
       "      <th>Max Temp</th>\n",
       "      <th>Humidity</th>\n",
       "      <th>Cloudiness</th>\n",
       "      <th>Wind Speed</th>\n",
       "    </tr>\n",
       "  </thead>\n",
       "  <tbody>\n",
       "    <tr>\n",
       "      <th>0</th>\n",
       "      <td>Porto-Novo</td>\n",
       "      <td>6.4965</td>\n",
       "      <td>2.6036</td>\n",
       "      <td>25.90</td>\n",
       "      <td>84</td>\n",
       "      <td>89</td>\n",
       "      <td>1.80</td>\n",
       "    </tr>\n",
       "    <tr>\n",
       "      <th>1</th>\n",
       "      <td>Yellowknife</td>\n",
       "      <td>62.4560</td>\n",
       "      <td>-114.3525</td>\n",
       "      <td>-29.77</td>\n",
       "      <td>82</td>\n",
       "      <td>40</td>\n",
       "      <td>5.66</td>\n",
       "    </tr>\n",
       "    <tr>\n",
       "      <th>2</th>\n",
       "      <td>Geraldton</td>\n",
       "      <td>-28.7667</td>\n",
       "      <td>114.6000</td>\n",
       "      <td>23.96</td>\n",
       "      <td>43</td>\n",
       "      <td>40</td>\n",
       "      <td>5.66</td>\n",
       "    </tr>\n",
       "    <tr>\n",
       "      <th>3</th>\n",
       "      <td>Iaciara</td>\n",
       "      <td>-14.0958</td>\n",
       "      <td>-46.6317</td>\n",
       "      <td>20.72</td>\n",
       "      <td>96</td>\n",
       "      <td>100</td>\n",
       "      <td>0.97</td>\n",
       "    </tr>\n",
       "    <tr>\n",
       "      <th>4</th>\n",
       "      <td>Hobart</td>\n",
       "      <td>-42.8794</td>\n",
       "      <td>147.3294</td>\n",
       "      <td>29.92</td>\n",
       "      <td>35</td>\n",
       "      <td>0</td>\n",
       "      <td>1.79</td>\n",
       "    </tr>\n",
       "    <tr>\n",
       "      <th>...</th>\n",
       "      <td>...</td>\n",
       "      <td>...</td>\n",
       "      <td>...</td>\n",
       "      <td>...</td>\n",
       "      <td>...</td>\n",
       "      <td>...</td>\n",
       "      <td>...</td>\n",
       "    </tr>\n",
       "    <tr>\n",
       "      <th>554</th>\n",
       "      <td>Laguna</td>\n",
       "      <td>38.4210</td>\n",
       "      <td>-121.4238</td>\n",
       "      <td>7.36</td>\n",
       "      <td>92</td>\n",
       "      <td>1</td>\n",
       "      <td>2.57</td>\n",
       "    </tr>\n",
       "    <tr>\n",
       "      <th>555</th>\n",
       "      <td>Kupang</td>\n",
       "      <td>-10.1667</td>\n",
       "      <td>123.5833</td>\n",
       "      <td>32.32</td>\n",
       "      <td>74</td>\n",
       "      <td>40</td>\n",
       "      <td>3.09</td>\n",
       "    </tr>\n",
       "    <tr>\n",
       "      <th>556</th>\n",
       "      <td>Ishigaki</td>\n",
       "      <td>24.3448</td>\n",
       "      <td>124.1572</td>\n",
       "      <td>17.07</td>\n",
       "      <td>59</td>\n",
       "      <td>75</td>\n",
       "      <td>6.69</td>\n",
       "    </tr>\n",
       "    <tr>\n",
       "      <th>557</th>\n",
       "      <td>Humboldt</td>\n",
       "      <td>40.6665</td>\n",
       "      <td>-123.9178</td>\n",
       "      <td>0.28</td>\n",
       "      <td>92</td>\n",
       "      <td>57</td>\n",
       "      <td>1.71</td>\n",
       "    </tr>\n",
       "    <tr>\n",
       "      <th>558</th>\n",
       "      <td>Burgersdorp</td>\n",
       "      <td>-30.9977</td>\n",
       "      <td>26.3286</td>\n",
       "      <td>10.78</td>\n",
       "      <td>72</td>\n",
       "      <td>100</td>\n",
       "      <td>1.45</td>\n",
       "    </tr>\n",
       "  </tbody>\n",
       "</table>\n",
       "<p>559 rows × 7 columns</p>\n",
       "</div>"
      ],
      "text/plain": [
       "            City      Lat       Lng  Max Temp  Humidity  Cloudiness  \\\n",
       "0     Porto-Novo   6.4965    2.6036     25.90        84          89   \n",
       "1    Yellowknife  62.4560 -114.3525    -29.77        82          40   \n",
       "2      Geraldton -28.7667  114.6000     23.96        43          40   \n",
       "3        Iaciara -14.0958  -46.6317     20.72        96         100   \n",
       "4         Hobart -42.8794  147.3294     29.92        35           0   \n",
       "..           ...      ...       ...       ...       ...         ...   \n",
       "554       Laguna  38.4210 -121.4238      7.36        92           1   \n",
       "555       Kupang -10.1667  123.5833     32.32        74          40   \n",
       "556     Ishigaki  24.3448  124.1572     17.07        59          75   \n",
       "557     Humboldt  40.6665 -123.9178      0.28        92          57   \n",
       "558  Burgersdorp -30.9977   26.3286     10.78        72         100   \n",
       "\n",
       "     Wind Speed  \n",
       "0          1.80  \n",
       "1          5.66  \n",
       "2          5.66  \n",
       "3          0.97  \n",
       "4          1.79  \n",
       "..          ...  \n",
       "554        2.57  \n",
       "555        3.09  \n",
       "556        6.69  \n",
       "557        1.71  \n",
       "558        1.45  \n",
       "\n",
       "[559 rows x 7 columns]"
      ]
     },
     "execution_count": 11,
     "metadata": {},
     "output_type": "execute_result"
    }
   ],
   "source": [
    "weather_dict = {\n",
    "    \"City\": city_list,\n",
    "    \"Lat\": lat_list,\n",
    "    \"Lng\": lon_list,\n",
    "    \"Max Temp\":max_temp_list,\n",
    "    \"Humidity\": humidity_list,\n",
    "    \"Cloudiness\":cloudiness_list,\n",
    "    \"Wind Speed\": wind_speed_list\n",
    "    }\n",
    "weather_data = pd.DataFrame(weather_dict)\n",
    "weather_data"
   ]
  },
  {
   "cell_type": "code",
   "execution_count": 12,
   "id": "899ce0d2",
   "metadata": {},
   "outputs": [
    {
     "data": {
      "text/html": [
       "<div>\n",
       "<style scoped>\n",
       "    .dataframe tbody tr th:only-of-type {\n",
       "        vertical-align: middle;\n",
       "    }\n",
       "\n",
       "    .dataframe tbody tr th {\n",
       "        vertical-align: top;\n",
       "    }\n",
       "\n",
       "    .dataframe thead th {\n",
       "        text-align: right;\n",
       "    }\n",
       "</style>\n",
       "<table border=\"1\" class=\"dataframe\">\n",
       "  <thead>\n",
       "    <tr style=\"text-align: right;\">\n",
       "      <th></th>\n",
       "      <th>Lat</th>\n",
       "      <th>Lng</th>\n",
       "      <th>Max Temp</th>\n",
       "      <th>Humidity</th>\n",
       "      <th>Cloudiness</th>\n",
       "      <th>Wind Speed</th>\n",
       "    </tr>\n",
       "  </thead>\n",
       "  <tbody>\n",
       "    <tr>\n",
       "      <th>count</th>\n",
       "      <td>559.000000</td>\n",
       "      <td>559.000000</td>\n",
       "      <td>559.000000</td>\n",
       "      <td>559.000000</td>\n",
       "      <td>559.000000</td>\n",
       "      <td>559.000000</td>\n",
       "    </tr>\n",
       "    <tr>\n",
       "      <th>mean</th>\n",
       "      <td>19.843321</td>\n",
       "      <td>14.890685</td>\n",
       "      <td>10.468497</td>\n",
       "      <td>73.577818</td>\n",
       "      <td>59.146691</td>\n",
       "      <td>3.480930</td>\n",
       "    </tr>\n",
       "    <tr>\n",
       "      <th>std</th>\n",
       "      <td>33.116355</td>\n",
       "      <td>88.973502</td>\n",
       "      <td>17.058950</td>\n",
       "      <td>21.331164</td>\n",
       "      <td>39.670280</td>\n",
       "      <td>2.619647</td>\n",
       "    </tr>\n",
       "    <tr>\n",
       "      <th>min</th>\n",
       "      <td>-54.800000</td>\n",
       "      <td>-179.166700</td>\n",
       "      <td>-40.280000</td>\n",
       "      <td>9.000000</td>\n",
       "      <td>0.000000</td>\n",
       "      <td>0.000000</td>\n",
       "    </tr>\n",
       "    <tr>\n",
       "      <th>25%</th>\n",
       "      <td>-7.340850</td>\n",
       "      <td>-64.057050</td>\n",
       "      <td>1.770000</td>\n",
       "      <td>60.000000</td>\n",
       "      <td>18.000000</td>\n",
       "      <td>1.540000</td>\n",
       "    </tr>\n",
       "    <tr>\n",
       "      <th>50%</th>\n",
       "      <td>22.545500</td>\n",
       "      <td>18.400900</td>\n",
       "      <td>15.310000</td>\n",
       "      <td>78.000000</td>\n",
       "      <td>75.000000</td>\n",
       "      <td>2.680000</td>\n",
       "    </tr>\n",
       "    <tr>\n",
       "      <th>75%</th>\n",
       "      <td>46.682000</td>\n",
       "      <td>85.433350</td>\n",
       "      <td>23.570000</td>\n",
       "      <td>91.000000</td>\n",
       "      <td>99.000000</td>\n",
       "      <td>4.930000</td>\n",
       "    </tr>\n",
       "    <tr>\n",
       "      <th>max</th>\n",
       "      <td>78.218600</td>\n",
       "      <td>179.316700</td>\n",
       "      <td>42.030000</td>\n",
       "      <td>100.000000</td>\n",
       "      <td>100.000000</td>\n",
       "      <td>17.380000</td>\n",
       "    </tr>\n",
       "  </tbody>\n",
       "</table>\n",
       "</div>"
      ],
      "text/plain": [
       "              Lat         Lng    Max Temp    Humidity  Cloudiness  Wind Speed\n",
       "count  559.000000  559.000000  559.000000  559.000000  559.000000  559.000000\n",
       "mean    19.843321   14.890685   10.468497   73.577818   59.146691    3.480930\n",
       "std     33.116355   88.973502   17.058950   21.331164   39.670280    2.619647\n",
       "min    -54.800000 -179.166700  -40.280000    9.000000    0.000000    0.000000\n",
       "25%     -7.340850  -64.057050    1.770000   60.000000   18.000000    1.540000\n",
       "50%     22.545500   18.400900   15.310000   78.000000   75.000000    2.680000\n",
       "75%     46.682000   85.433350   23.570000   91.000000   99.000000    4.930000\n",
       "max     78.218600  179.316700   42.030000  100.000000  100.000000   17.380000"
      ]
     },
     "execution_count": 12,
     "metadata": {},
     "output_type": "execute_result"
    }
   ],
   "source": [
    "weather_data.describe()"
   ]
  },
  {
   "cell_type": "code",
   "execution_count": 13,
   "id": "6c648c2e",
   "metadata": {},
   "outputs": [
    {
     "data": {
      "text/html": [
       "<div>\n",
       "<style scoped>\n",
       "    .dataframe tbody tr th:only-of-type {\n",
       "        vertical-align: middle;\n",
       "    }\n",
       "\n",
       "    .dataframe tbody tr th {\n",
       "        vertical-align: top;\n",
       "    }\n",
       "\n",
       "    .dataframe thead th {\n",
       "        text-align: right;\n",
       "    }\n",
       "</style>\n",
       "<table border=\"1\" class=\"dataframe\">\n",
       "  <thead>\n",
       "    <tr style=\"text-align: right;\">\n",
       "      <th></th>\n",
       "      <th>City</th>\n",
       "      <th>Lat</th>\n",
       "      <th>Lng</th>\n",
       "      <th>Max Temp</th>\n",
       "      <th>Humidity</th>\n",
       "      <th>Cloudiness</th>\n",
       "      <th>Wind Speed</th>\n",
       "    </tr>\n",
       "  </thead>\n",
       "  <tbody>\n",
       "  </tbody>\n",
       "</table>\n",
       "</div>"
      ],
      "text/plain": [
       "Empty DataFrame\n",
       "Columns: [City, Lat, Lng, Max Temp, Humidity, Cloudiness, Wind Speed]\n",
       "Index: []"
      ]
     },
     "execution_count": 13,
     "metadata": {},
     "output_type": "execute_result"
    }
   ],
   "source": [
    "humid_city = weather_data.loc[weather_data[\"Humidity\"]>100]\n",
    "humid_city.head()"
   ]
  },
  {
   "cell_type": "code",
   "execution_count": 14,
   "id": "dbf1055b",
   "metadata": {},
   "outputs": [
    {
     "data": {
      "image/png": "[encoded data removed]",
      "text/plain": [
       "<Figure size 432x288 with 1 Axes>"
      ]
     },
     "metadata": {
      "needs_background": "light"
     },
     "output_type": "display_data"
    }
   ],
   "source": [
    "# When the latitude increases, the temprature drops\n",
    "x_values = weather_data['Lat']\n",
    "y_values = weather_data['Max Temp']\n",
    "plt.scatter(x_values,y_values)\n",
    "plt.title('City Latitude vs Max Temperature')\n",
    "plt.xlabel('Latitude')\n",
    "plt.ylabel('Max Temperature')\n",
    "plt.show()"
   ]
  },
  {
   "cell_type": "code",
   "execution_count": 15,
   "id": "31c4b4eb",
   "metadata": {},
   "outputs": [
    {
     "data": {
      "image/png": "[encoded data removed]",
      "text/plain": [
       "<Figure size 432x288 with 1 Axes>"
      ]
     },
     "metadata": {
      "needs_background": "light"
     },
     "output_type": "display_data"
    }
   ],
   "source": [
    "#overall high level of humidity \n",
    "x_values = weather_data['Lat']\n",
    "y_values = weather_data['Humidity']\n",
    "plt.scatter(x_values,y_values)\n",
    "plt.title('City Latitude vs Humidity')\n",
    "plt.xlabel('Latitude')\n",
    "plt.ylabel('Humidity(%)')\n",
    "plt.show()"
   ]
  },
  {
   "cell_type": "code",
   "execution_count": 16,
   "id": "fc9ae9e5",
   "metadata": {},
   "outputs": [
    {
     "data": {
      "image/png": "[encoded data removed]",
      "text/plain": [
       "<Figure size 432x288 with 1 Axes>"
      ]
     },
     "metadata": {
      "needs_background": "light"
     },
     "output_type": "display_data"
    }
   ],
   "source": [
    "#high variation of cloudiness across all latitudes, so no relationship is observed. \n",
    "x_values = weather_data['Lat']\n",
    "y_values = weather_data['Cloudiness']\n",
    "plt.scatter(x_values,y_values)\n",
    "plt.title('City Latitude vs Cloudiness')\n",
    "plt.xlabel('Latitude')\n",
    "plt.ylabel('Cloudiness (%)')\n",
    "plt.show()"
   ]
  },
  {
   "cell_type": "code",
   "execution_count": 17,
   "id": "a8cb1358",
   "metadata": {},
   "outputs": [
    {
     "data": {
      "image/png": "[encoded data removed]",
      "text/plain": [
       "<Figure size 432x288 with 1 Axes>"
      ]
     },
     "metadata": {
      "needs_background": "light"
     },
     "output_type": "display_data"
    }
   ],
   "source": [
    "# wind speed remains relatively same aross latitudes\n",
    "x_values = weather_data['Lat']\n",
    "y_values = weather_data['Wind Speed']\n",
    "plt.scatter(x_values,y_values)\n",
    "plt.title('City Latitude vs Wind Speed')\n",
    "plt.xlabel('Latitude')\n",
    "plt.ylabel('Wind Speed(mph))')\n",
    "plt.show()"
   ]
  },
  {
   "cell_type": "code",
   "execution_count": 18,
   "id": "c369a015",
   "metadata": {},
   "outputs": [
    {
     "data": {
      "text/html": [
       "<div>\n",
       "<style scoped>\n",
       "    .dataframe tbody tr th:only-of-type {\n",
       "        vertical-align: middle;\n",
       "    }\n",
       "\n",
       "    .dataframe tbody tr th {\n",
       "        vertical-align: top;\n",
       "    }\n",
       "\n",
       "    .dataframe thead th {\n",
       "        text-align: right;\n",
       "    }\n",
       "</style>\n",
       "<table border=\"1\" class=\"dataframe\">\n",
       "  <thead>\n",
       "    <tr style=\"text-align: right;\">\n",
       "      <th></th>\n",
       "      <th>City</th>\n",
       "      <th>Lat</th>\n",
       "      <th>Lng</th>\n",
       "      <th>Max Temp</th>\n",
       "      <th>Humidity</th>\n",
       "      <th>Cloudiness</th>\n",
       "      <th>Wind Speed</th>\n",
       "    </tr>\n",
       "  </thead>\n",
       "  <tbody>\n",
       "    <tr>\n",
       "      <th>0</th>\n",
       "      <td>Porto-Novo</td>\n",
       "      <td>6.4965</td>\n",
       "      <td>2.6036</td>\n",
       "      <td>25.90</td>\n",
       "      <td>84</td>\n",
       "      <td>89</td>\n",
       "      <td>1.80</td>\n",
       "    </tr>\n",
       "    <tr>\n",
       "      <th>1</th>\n",
       "      <td>Yellowknife</td>\n",
       "      <td>62.4560</td>\n",
       "      <td>-114.3525</td>\n",
       "      <td>-29.77</td>\n",
       "      <td>82</td>\n",
       "      <td>40</td>\n",
       "      <td>5.66</td>\n",
       "    </tr>\n",
       "    <tr>\n",
       "      <th>5</th>\n",
       "      <td>Nanortalik</td>\n",
       "      <td>60.1432</td>\n",
       "      <td>-45.2371</td>\n",
       "      <td>-4.10</td>\n",
       "      <td>53</td>\n",
       "      <td>37</td>\n",
       "      <td>2.64</td>\n",
       "    </tr>\n",
       "    <tr>\n",
       "      <th>7</th>\n",
       "      <td>Nouadhibou</td>\n",
       "      <td>20.9310</td>\n",
       "      <td>-17.0347</td>\n",
       "      <td>16.99</td>\n",
       "      <td>82</td>\n",
       "      <td>3</td>\n",
       "      <td>5.66</td>\n",
       "    </tr>\n",
       "    <tr>\n",
       "      <th>9</th>\n",
       "      <td>Kahului</td>\n",
       "      <td>20.8947</td>\n",
       "      <td>-156.4700</td>\n",
       "      <td>26.01</td>\n",
       "      <td>79</td>\n",
       "      <td>20</td>\n",
       "      <td>3.60</td>\n",
       "    </tr>\n",
       "  </tbody>\n",
       "</table>\n",
       "</div>"
      ],
      "text/plain": [
       "          City      Lat       Lng  Max Temp  Humidity  Cloudiness  Wind Speed\n",
       "0   Porto-Novo   6.4965    2.6036     25.90        84          89        1.80\n",
       "1  Yellowknife  62.4560 -114.3525    -29.77        82          40        5.66\n",
       "5   Nanortalik  60.1432  -45.2371     -4.10        53          37        2.64\n",
       "7   Nouadhibou  20.9310  -17.0347     16.99        82           3        5.66\n",
       "9      Kahului  20.8947 -156.4700     26.01        79          20        3.60"
      ]
     },
     "execution_count": 18,
     "metadata": {},
     "output_type": "execute_result"
    }
   ],
   "source": [
    "northern_hemisphere = weather_data.loc[weather_data[\"Lat\"]>=0]\n",
    "northern_hemisphere.head()"
   ]
  },
  {
   "cell_type": "code",
   "execution_count": 20,
   "id": "ef039151",
   "metadata": {},
   "outputs": [
    {
     "data": {
      "image/png": "[encoded data removed]",
      "text/plain": [
       "<Figure size 432x288 with 1 Axes>"
      ]
     },
     "metadata": {
      "needs_background": "light"
     },
     "output_type": "display_data"
    }
   ],
   "source": [
    "x_values = northern_hemisphere['Lat']\n",
    "y_values = northern_hemisphere['Max Temp']\n",
    "plt.scatter(x_values,y_values)\n",
    "plt.title('City Latitude vs Max Temperature')\n",
    "plt.xlabel('Latitude')\n",
    "plt.ylabel('Max Temperature')\n",
    "plt.show()"
   ]
  },
  {
   "cell_type": "code",
   "execution_count": 21,
   "id": "0bb532c1",
   "metadata": {},
   "outputs": [
    {
     "name": "stdout",
     "output_type": "stream",
     "text": [
      "0      27.722492\n",
      "1     -12.350361\n",
      "5     -10.694155\n",
      "7      17.385881\n",
      "9      17.411876\n",
      "         ...    \n",
      "552    -9.736078\n",
      "553    -6.696787\n",
      "554     4.861212\n",
      "556    14.941243\n",
      "557     3.253199\n",
      "Name: Lat, Length: 379, dtype: float64\n"
     ]
    }
   ],
   "source": [
    "(slope, intercept, rvalue, pvalue, stderr) = stats.linregress(x_values, y_values)\n",
    "\n",
    "# Get regression values\n",
    "regress_values = x_values * slope + intercept\n",
    "print(regress_values)"
   ]
  },
  {
   "cell_type": "code",
   "execution_count": 22,
   "id": "0fea9c88",
   "metadata": {},
   "outputs": [
    {
     "name": "stdout",
     "output_type": "stream",
     "text": [
      "y = -0.72x +32.37\n"
     ]
    }
   ],
   "source": [
    "line_eq = \"y = \" + str(round(slope,2)) + \"x +\" + str(round(intercept,2))\n",
    "print(line_eq)"
   ]
  },
  {
   "cell_type": "code",
   "execution_count": 23,
   "id": "3dbb4b1b",
   "metadata": {},
   "outputs": [
    {
     "name": "stdout",
     "output_type": "stream",
     "text": [
      "The r-value is: 0.6778639712310551\n"
     ]
    },
    {
     "data": {
      "image/png": "[encoded data removed]",
      "text/plain": [
       "<Figure size 432x288 with 1 Axes>"
      ]
     },
     "metadata": {
      "needs_background": "light"
     },
     "output_type": "display_data"
    }
   ],
   "source": [
    "plt.scatter(x_values,y_values)\n",
    "plt.plot(x_values,regress_values,\"r-\")\n",
    "\n",
    "plt.xlabel('Latitude')\n",
    "plt.ylabel('Max Temperature')\n",
    "plt.annotate(line_eq,(20,15),fontsize=15,color=\"red\")\n",
    "\n",
    "print(f\"The r-value is: {rvalue**2}\")\n",
    "\n",
    "plt.show()"
   ]
  },
  {
   "cell_type": "code",
   "execution_count": 24,
   "id": "a5e9ab4f",
   "metadata": {},
   "outputs": [
    {
     "data": {
      "image/png": "[encoded data removed]",
      "text/plain": [
       "<Figure size 432x288 with 1 Axes>"
      ]
     },
     "metadata": {
      "needs_background": "light"
     },
     "output_type": "display_data"
    }
   ],
   "source": [
    "x_values = northern_hemisphere['Lat']\n",
    "y_values = northern_hemisphere['Humidity']\n",
    "plt.scatter(x_values,y_values)\n",
    "plt.title('City Latitude vs Humidity')\n",
    "plt.xlabel('Latitude')\n",
    "plt.ylabel('Humidity(%)')\n",
    "plt.show()"
   ]
  },
  {
   "cell_type": "code",
   "execution_count": 25,
   "id": "684a8d9b",
   "metadata": {},
   "outputs": [
    {
     "name": "stdout",
     "output_type": "stream",
     "text": [
      "0      58.471667\n",
      "1      84.890279\n",
      "5      83.798400\n",
      "7      65.286229\n",
      "9      65.269091\n",
      "         ...    \n",
      "552    83.166775\n",
      "553    81.163078\n",
      "554    73.543299\n",
      "556    66.897892\n",
      "557    74.603404\n",
      "Name: Lat, Length: 379, dtype: float64\n"
     ]
    }
   ],
   "source": [
    "(slope, intercept, rvalue, pvalue, stderr) = stats.linregress(x_values, y_values)\n",
    "\n",
    "regress_values = x_values * slope + intercept\n",
    "print(regress_values)"
   ]
  },
  {
   "cell_type": "code",
   "execution_count": 26,
   "id": "65000e9d",
   "metadata": {},
   "outputs": [
    {
     "name": "stdout",
     "output_type": "stream",
     "text": [
      "y = 0.47x +55.4\n"
     ]
    }
   ],
   "source": [
    "line_eq = \"y = \" + str(round(slope,2)) + \"x +\" + str(round(intercept,2))\n",
    "print(line_eq)"
   ]
  },
  {
   "cell_type": "code",
   "execution_count": 27,
   "id": "d3244125",
   "metadata": {},
   "outputs": [
    {
     "name": "stdout",
     "output_type": "stream",
     "text": [
      "The r-value is: 0.18472458595923102\n"
     ]
    },
    {
     "data": {
      "image/png": "[encoded data removed]",
      "text/plain": [
       "<Figure size 432x288 with 1 Axes>"
      ]
     },
     "metadata": {
      "needs_background": "light"
     },
     "output_type": "display_data"
    }
   ],
   "source": [
    "plt.scatter(x_values,y_values)\n",
    "plt.plot(x_values,regress_values,\"r-\")\n",
    "\n",
    "plt.xlabel('Latitude')\n",
    "plt.ylabel('Humidity')\n",
    "plt.annotate(line_eq,(20,15),fontsize=15,color=\"red\")\n",
    "\n",
    "print(f\"The r-value is: {rvalue**2}\")\n",
    "\n",
    "plt.show()"
   ]
  },
  {
   "cell_type": "code",
   "execution_count": 28,
   "id": "a501f7c9",
   "metadata": {},
   "outputs": [
    {
     "data": {
      "image/png": "[encoded data removed]",
      "text/plain": [
       "<Figure size 432x288 with 1 Axes>"
      ]
     },
     "metadata": {
      "needs_background": "light"
     },
     "output_type": "display_data"
    }
   ],
   "source": [
    "x_values = northern_hemisphere['Lat']\n",
    "y_values = northern_hemisphere['Cloudiness']\n",
    "plt.scatter(x_values,y_values)\n",
    "plt.title('City Latitude vs Cloudiness')\n",
    "plt.xlabel('Latitude')\n",
    "plt.ylabel('Cloudiness (%)')\n",
    "plt.show()"
   ]
  },
  {
   "cell_type": "code",
   "execution_count": 29,
   "id": "d98f4182",
   "metadata": {},
   "outputs": [
    {
     "name": "stdout",
     "output_type": "stream",
     "text": [
      "0      45.125691\n",
      "1      71.253669\n",
      "5      70.173802\n",
      "7      51.865285\n",
      "9      51.848336\n",
      "         ...    \n",
      "552    69.549125\n",
      "553    67.567471\n",
      "554    60.031518\n",
      "556    53.459218\n",
      "557    61.079961\n",
      "Name: Lat, Length: 379, dtype: float64\n"
     ]
    }
   ],
   "source": [
    "(slope, intercept, rvalue, pvalue, stderr) = stats.linregress(x_values, y_values)\n",
    "\n",
    "regress_values = x_values * slope + intercept\n",
    "print(regress_values)"
   ]
  },
  {
   "cell_type": "code",
   "execution_count": 30,
   "id": "cf58a2d1",
   "metadata": {},
   "outputs": [
    {
     "name": "stdout",
     "output_type": "stream",
     "text": [
      "y = 0.47x +42.09\n"
     ]
    }
   ],
   "source": [
    "line_eq = \"y = \" + str(round(slope,2)) + \"x +\" + str(round(intercept,2))\n",
    "print(line_eq)"
   ]
  },
  {
   "cell_type": "code",
   "execution_count": 31,
   "id": "1da25daa",
   "metadata": {},
   "outputs": [
    {
     "name": "stdout",
     "output_type": "stream",
     "text": [
      "The r-value is: 0.0544150476960657\n"
     ]
    },
    {
     "data": {
      "image/png": "[encoded data removed]",
      "text/plain": [
       "<Figure size 432x288 with 1 Axes>"
      ]
     },
     "metadata": {
      "needs_background": "light"
     },
     "output_type": "display_data"
    }
   ],
   "source": [
    "plt.scatter(x_values,y_values)\n",
    "plt.plot(x_values,regress_values,\"r-\")\n",
    "\n",
    "plt.xlabel('Latitude')\n",
    "plt.ylabel('Cloudiness')\n",
    "plt.annotate(line_eq,(20,15),fontsize=15,color=\"red\")\n",
    "\n",
    "print(f\"The r-value is: {rvalue**2}\")\n",
    "\n",
    "plt.show()"
   ]
  },
  {
   "cell_type": "code",
   "execution_count": 32,
   "id": "74bf4983",
   "metadata": {},
   "outputs": [
    {
     "data": {
      "image/png": "[encoded data removed]",
      "text/plain": [
       "<Figure size 432x288 with 1 Axes>"
      ]
     },
     "metadata": {
      "needs_background": "light"
     },
     "output_type": "display_data"
    }
   ],
   "source": [
    "x_values = northern_hemisphere['Lat']\n",
    "y_values = northern_hemisphere['Wind Speed']\n",
    "plt.scatter(x_values,y_values)\n",
    "plt.title('City Latitude vs Wind Speed')\n",
    "plt.xlabel('Latitude')\n",
    "plt.ylabel('Wind Speed(mph))')\n",
    "plt.show()"
   ]
  },
  {
   "cell_type": "code",
   "execution_count": 33,
   "id": "906ce2b1",
   "metadata": {},
   "outputs": [
    {
     "name": "stdout",
     "output_type": "stream",
     "text": [
      "0      3.190491\n",
      "1      3.671221\n",
      "5      3.651352\n",
      "7      3.314493\n",
      "9      3.314181\n",
      "         ...   \n",
      "552    3.639859\n",
      "553    3.603398\n",
      "554    3.464744\n",
      "556    3.343820\n",
      "557    3.484034\n",
      "Name: Lat, Length: 379, dtype: float64\n"
     ]
    }
   ],
   "source": [
    "(slope, intercept, rvalue, pvalue, stderr) = stats.linregress(x_values, y_values)\n",
    "\n",
    "# Get regression values\n",
    "regress_values = x_values * slope + intercept\n",
    "print(regress_values)"
   ]
  },
  {
   "cell_type": "code",
   "execution_count": 34,
   "id": "fd12a63f",
   "metadata": {},
   "outputs": [
    {
     "name": "stdout",
     "output_type": "stream",
     "text": [
      "y = 0.01x +3.13\n"
     ]
    }
   ],
   "source": [
    "line_eq = \"y = \" + str(round(slope,2)) + \"x +\" + str(round(intercept,2))\n",
    "print(line_eq)"
   ]
  },
  {
   "cell_type": "code",
   "execution_count": 35,
   "id": "bb4e4111",
   "metadata": {},
   "outputs": [
    {
     "name": "stdout",
     "output_type": "stream",
     "text": [
      "The r-value is: 0.003927548273011448\n"
     ]
    },
    {
     "data": {
      "image/png": "[encoded data removed]",
      "text/plain": [
       "<Figure size 432x288 with 1 Axes>"
      ]
     },
     "metadata": {
      "needs_background": "light"
     },
     "output_type": "display_data"
    }
   ],
   "source": [
    "plt.scatter(x_values,y_values)\n",
    "plt.plot(x_values,regress_values,\"r-\")\n",
    "\n",
    "plt.xlabel('Latitude')\n",
    "plt.ylabel('Wind Speed')\n",
    "plt.annotate(line_eq,(20,15),fontsize=15,color=\"red\")\n",
    "\n",
    "print(f\"The r-value is: {rvalue**2}\")\n",
    "\n",
    "plt.show()"
   ]
  },
  {
   "cell_type": "code",
   "execution_count": 36,
   "id": "c5c693fc",
   "metadata": {},
   "outputs": [
    {
     "data": {
      "text/html": [
       "<div>\n",
       "<style scoped>\n",
       "    .dataframe tbody tr th:only-of-type {\n",
       "        vertical-align: middle;\n",
       "    }\n",
       "\n",
       "    .dataframe tbody tr th {\n",
       "        vertical-align: top;\n",
       "    }\n",
       "\n",
       "    .dataframe thead th {\n",
       "        text-align: right;\n",
       "    }\n",
       "</style>\n",
       "<table border=\"1\" class=\"dataframe\">\n",
       "  <thead>\n",
       "    <tr style=\"text-align: right;\">\n",
       "      <th></th>\n",
       "      <th>City</th>\n",
       "      <th>Lat</th>\n",
       "      <th>Lng</th>\n",
       "      <th>Max Temp</th>\n",
       "      <th>Humidity</th>\n",
       "      <th>Cloudiness</th>\n",
       "      <th>Wind Speed</th>\n",
       "    </tr>\n",
       "  </thead>\n",
       "  <tbody>\n",
       "    <tr>\n",
       "      <th>2</th>\n",
       "      <td>Geraldton</td>\n",
       "      <td>-28.7667</td>\n",
       "      <td>114.6000</td>\n",
       "      <td>23.96</td>\n",
       "      <td>43</td>\n",
       "      <td>40</td>\n",
       "      <td>5.66</td>\n",
       "    </tr>\n",
       "    <tr>\n",
       "      <th>3</th>\n",
       "      <td>Iaciara</td>\n",
       "      <td>-14.0958</td>\n",
       "      <td>-46.6317</td>\n",
       "      <td>20.72</td>\n",
       "      <td>96</td>\n",
       "      <td>100</td>\n",
       "      <td>0.97</td>\n",
       "    </tr>\n",
       "    <tr>\n",
       "      <th>4</th>\n",
       "      <td>Hobart</td>\n",
       "      <td>-42.8794</td>\n",
       "      <td>147.3294</td>\n",
       "      <td>29.92</td>\n",
       "      <td>35</td>\n",
       "      <td>0</td>\n",
       "      <td>1.79</td>\n",
       "    </tr>\n",
       "    <tr>\n",
       "      <th>6</th>\n",
       "      <td>Bluff</td>\n",
       "      <td>-46.6000</td>\n",
       "      <td>168.3333</td>\n",
       "      <td>14.33</td>\n",
       "      <td>67</td>\n",
       "      <td>100</td>\n",
       "      <td>11.42</td>\n",
       "    </tr>\n",
       "    <tr>\n",
       "      <th>8</th>\n",
       "      <td>Port Alfred</td>\n",
       "      <td>-33.5906</td>\n",
       "      <td>26.8910</td>\n",
       "      <td>15.88</td>\n",
       "      <td>77</td>\n",
       "      <td>20</td>\n",
       "      <td>9.58</td>\n",
       "    </tr>\n",
       "  </tbody>\n",
       "</table>\n",
       "</div>"
      ],
      "text/plain": [
       "          City      Lat       Lng  Max Temp  Humidity  Cloudiness  Wind Speed\n",
       "2    Geraldton -28.7667  114.6000     23.96        43          40        5.66\n",
       "3      Iaciara -14.0958  -46.6317     20.72        96         100        0.97\n",
       "4       Hobart -42.8794  147.3294     29.92        35           0        1.79\n",
       "6        Bluff -46.6000  168.3333     14.33        67         100       11.42\n",
       "8  Port Alfred -33.5906   26.8910     15.88        77          20        9.58"
      ]
     },
     "execution_count": 36,
     "metadata": {},
     "output_type": "execute_result"
    }
   ],
   "source": [
    "southern_hemisphere = weather_data.loc[weather_data[\"Lat\"]<0]\n",
    "southern_hemisphere.head()"
   ]
  },
  {
   "cell_type": "code",
   "execution_count": 37,
   "id": "19ecd4d2",
   "metadata": {},
   "outputs": [
    {
     "data": {
      "image/png": "[encoded data removed]",
      "text/plain": [
       "<Figure size 432x288 with 1 Axes>"
      ]
     },
     "metadata": {
      "needs_background": "light"
     },
     "output_type": "display_data"
    }
   ],
   "source": [
    "x_values = southern_hemisphere['Lat']\n",
    "y_values = southern_hemisphere['Max Temp']\n",
    "plt.scatter(x_values,y_values)\n",
    "plt.title('City Latitude vs Max Temperature')\n",
    "plt.xlabel('Latitude')\n",
    "plt.ylabel('Max Temperature')\n",
    "plt.show()"
   ]
  },
  {
   "cell_type": "code",
   "execution_count": 38,
   "id": "e0e05264",
   "metadata": {},
   "outputs": [
    {
     "name": "stdout",
     "output_type": "stream",
     "text": [
      "2      21.675416\n",
      "3      24.111247\n",
      "4      19.332264\n",
      "6      18.714527\n",
      "8      20.874497\n",
      "         ...    \n",
      "544    26.253186\n",
      "545    25.121864\n",
      "550    24.848278\n",
      "555    24.763602\n",
      "558    21.305000\n",
      "Name: Lat, Length: 180, dtype: float64\n"
     ]
    }
   ],
   "source": [
    "(slope, intercept, rvalue, pvalue, stderr) = stats.linregress(x_values, y_values)\n",
    "\n",
    "# Get regression values\n",
    "regress_values = x_values * slope + intercept\n",
    "print(regress_values)"
   ]
  },
  {
   "cell_type": "code",
   "execution_count": 39,
   "id": "93714bbe",
   "metadata": {},
   "outputs": [
    {
     "name": "stdout",
     "output_type": "stream",
     "text": [
      "y = 0.17x +26.45\n"
     ]
    }
   ],
   "source": [
    "line_eq = \"y = \" + str(round(slope,2)) + \"x +\" + str(round(intercept,2))\n",
    "print(line_eq)"
   ]
  },
  {
   "cell_type": "code",
   "execution_count": 40,
   "id": "4e133b2b",
   "metadata": {},
   "outputs": [
    {
     "name": "stdout",
     "output_type": "stream",
     "text": [
      "The r-value is: 0.12947649986899168\n"
     ]
    },
    {
     "data": {
      "image/png": "[encoded data removed]",
      "text/plain": [
       "<Figure size 432x288 with 1 Axes>"
      ]
     },
     "metadata": {
      "needs_background": "light"
     },
     "output_type": "display_data"
    }
   ],
   "source": [
    "plt.scatter(x_values,y_values)\n",
    "plt.plot(x_values,regress_values,\"r-\")\n",
    "\n",
    "plt.xlabel('Latitude')\n",
    "plt.ylabel('Max Temperature')\n",
    "plt.annotate(line_eq,(20,15),fontsize=15,color=\"red\")\n",
    "\n",
    "print(f\"The r-value is: {rvalue**2}\")\n",
    "\n",
    "plt.show()"
   ]
  },
  {
   "cell_type": "code",
   "execution_count": 41,
   "id": "39513b20",
   "metadata": {},
   "outputs": [
    {
     "data": {
      "image/png": "[encoded data removed]",
      "text/plain": [
       "<Figure size 432x288 with 1 Axes>"
      ]
     },
     "metadata": {
      "needs_background": "light"
     },
     "output_type": "display_data"
    }
   ],
   "source": [
    "x_values = southern_hemisphere['Lat']\n",
    "y_values = southern_hemisphere['Humidity']\n",
    "plt.scatter(x_values,y_values)\n",
    "plt.title('City Latitude vs Humidity')\n",
    "plt.xlabel('Latitude')\n",
    "plt.ylabel('Humidity')\n",
    "plt.show()"
   ]
  },
  {
   "cell_type": "code",
   "execution_count": 42,
   "id": "af412731",
   "metadata": {},
   "outputs": [
    {
     "name": "stdout",
     "output_type": "stream",
     "text": [
      "2      68.009793\n",
      "3      76.962962\n",
      "4      59.397275\n",
      "6      57.126715\n",
      "8      65.065925\n",
      "         ...    \n",
      "544    84.835898\n",
      "545    80.677598\n",
      "550    79.672000\n",
      "555    79.360763\n",
      "558    66.648287\n",
      "Name: Lat, Length: 180, dtype: float64\n"
     ]
    }
   ],
   "source": [
    "(slope, intercept, rvalue, pvalue, stderr) = stats.linregress(x_values, y_values)\n",
    "\n",
    "regress_values = x_values * slope + intercept\n",
    "print(regress_values)"
   ]
  },
  {
   "cell_type": "code",
   "execution_count": 43,
   "id": "089777ef",
   "metadata": {},
   "outputs": [
    {
     "name": "stdout",
     "output_type": "stream",
     "text": [
      "y = 0.61x +85.57\n"
     ]
    }
   ],
   "source": [
    "line_eq = \"y = \" + str(round(slope,2)) + \"x +\" + str(round(intercept,2))\n",
    "print(line_eq)"
   ]
  },
  {
   "cell_type": "code",
   "execution_count": 44,
   "id": "a687c836",
   "metadata": {},
   "outputs": [
    {
     "name": "stdout",
     "output_type": "stream",
     "text": [
      "The r-value is: 0.16626908997976775\n"
     ]
    },
    {
     "data": {
      "image/png": "[encoded data removed]",
      "text/plain": [
       "<Figure size 432x288 with 1 Axes>"
      ]
     },
     "metadata": {
      "needs_background": "light"
     },
     "output_type": "display_data"
    }
   ],
   "source": [
    "plt.scatter(x_values,y_values)\n",
    "plt.plot(x_values,regress_values,\"r-\")\n",
    "\n",
    "plt.xlabel('Latitude')\n",
    "plt.ylabel('Humidity')\n",
    "plt.annotate(line_eq,(20,15),fontsize=15,color=\"red\")\n",
    "\n",
    "print(f\"The r-value is: {rvalue**2}\")\n",
    "\n",
    "plt.show()"
   ]
  },
  {
   "cell_type": "code",
   "execution_count": 45,
   "id": "b4d77af5",
   "metadata": {},
   "outputs": [
    {
     "data": {
      "image/png": "[encoded data removed]",
      "text/plain": [
       "<Figure size 432x288 with 1 Axes>"
      ]
     },
     "metadata": {
      "needs_background": "light"
     },
     "output_type": "display_data"
    }
   ],
   "source": [
    "x_values = southern_hemisphere['Lat']\n",
    "y_values = southern_hemisphere['Cloudiness']\n",
    "plt.scatter(x_values,y_values)\n",
    "plt.xlabel('Latitude')\n",
    "plt.ylabel('Cloudiness')\n",
    "plt.show()"
   ]
  },
  {
   "cell_type": "code",
   "execution_count": 46,
   "id": "2b8e7c52",
   "metadata": {},
   "outputs": [
    {
     "name": "stdout",
     "output_type": "stream",
     "text": [
      "2      46.121543\n",
      "3      64.743638\n",
      "4      28.207983\n",
      "6      23.485344\n",
      "8      39.998461\n",
      "         ...    \n",
      "544    81.118906\n",
      "545    72.469873\n",
      "550    70.378285\n",
      "555    69.730931\n",
      "558    43.289686\n",
      "Name: Lat, Length: 180, dtype: float64\n"
     ]
    }
   ],
   "source": [
    "(slope, intercept, rvalue, pvalue, stderr) = stats.linregress(x_values, y_values)\n",
    "\n",
    "regress_values = x_values * slope + intercept\n",
    "print(regress_values)"
   ]
  },
  {
   "cell_type": "code",
   "execution_count": 47,
   "id": "d875230a",
   "metadata": {},
   "outputs": [
    {
     "name": "stdout",
     "output_type": "stream",
     "text": [
      "y = 1.27x +82.64\n"
     ]
    }
   ],
   "source": [
    "line_eq = \"y = \" + str(round(slope,2)) + \"x +\" + str(round(intercept,2))\n",
    "print(line_eq)"
   ]
  },
  {
   "cell_type": "code",
   "execution_count": 48,
   "id": "6b4bace4",
   "metadata": {},
   "outputs": [
    {
     "name": "stdout",
     "output_type": "stream",
     "text": [
      "The r-value is: 0.1902055717467844\n"
     ]
    },
    {
     "data": {
      "image/png": "[encoded data removed]",
      "text/plain": [
       "<Figure size 432x288 with 1 Axes>"
      ]
     },
     "metadata": {
      "needs_background": "light"
     },
     "output_type": "display_data"
    }
   ],
   "source": [
    "plt.scatter(x_values,y_values)\n",
    "plt.plot(x_values,regress_values,\"r-\")\n",
    "\n",
    "plt.xlabel('Latitude')\n",
    "plt.ylabel('Cloudiness')\n",
    "plt.annotate(line_eq,(20,15),fontsize=15,color=\"red\")\n",
    "\n",
    "print(f\"The r-value is: {rvalue**2}\")\n",
    "\n",
    "plt.show()"
   ]
  },
  {
   "cell_type": "code",
   "execution_count": 49,
   "id": "4b014bbc",
   "metadata": {},
   "outputs": [
    {
     "data": {
      "image/png": "[encoded data removed]",
      "text/plain": [
       "<Figure size 432x288 with 1 Axes>"
      ]
     },
     "metadata": {
      "needs_background": "light"
     },
     "output_type": "display_data"
    }
   ],
   "source": [
    "x_values = southern_hemisphere['Lat']\n",
    "y_values = southern_hemisphere['Wind Speed']\n",
    "plt.scatter(x_values,y_values)\n",
    "plt.xlabel('Latitude')\n",
    "plt.ylabel('Wind Speed')\n",
    "plt.show()"
   ]
  },
  {
   "cell_type": "code",
   "execution_count": 50,
   "id": "4b9bb305",
   "metadata": {},
   "outputs": [
    {
     "name": "stdout",
     "output_type": "stream",
     "text": [
      "2      3.999196\n",
      "3      3.135547\n",
      "4      4.829985\n",
      "6      5.049010\n",
      "8      4.283170\n",
      "         ...   \n",
      "544    2.376100\n",
      "545    2.777222\n",
      "550    2.874225\n",
      "555    2.904248\n",
      "558    4.130531\n",
      "Name: Lat, Length: 180, dtype: float64\n"
     ]
    }
   ],
   "source": [
    "(slope, intercept, rvalue, pvalue, stderr) = stats.linregress(x_values, y_values)\n",
    "\n",
    "regress_values = x_values * slope + intercept\n",
    "print(regress_values)"
   ]
  },
  {
   "cell_type": "code",
   "execution_count": 51,
   "id": "9b0b03c0",
   "metadata": {},
   "outputs": [
    {
     "name": "stdout",
     "output_type": "stream",
     "text": [
      "The r-value is: 0.11149077757538511\n"
     ]
    },
    {
     "data": {
      "image/png": "[encoded data removed]",
      "text/plain": [
       "<Figure size 432x288 with 1 Axes>"
      ]
     },
     "metadata": {
      "needs_background": "light"
     },
     "output_type": "display_data"
    }
   ],
   "source": [
    "plt.scatter(x_values,y_values)\n",
    "plt.plot(x_values,regress_values,\"r-\")\n",
    "\n",
    "plt.xlabel('Latitude')\n",
    "plt.ylabel('Wind Speed')\n",
    "plt.annotate(line_eq,(20,15),fontsize=15,color=\"red\")\n",
    "\n",
    "print(f\"The r-value is: {rvalue**2}\")\n",
    "\n",
    "plt.show()"
   ]
  },
  {
   "cell_type": "code",
   "execution_count": 53,
   "id": "a245c76f",
   "metadata": {},
   "outputs": [
    {
     "name": "stdout",
     "output_type": "stream",
     "text": [
      "            City      Lat       Lng  Max Temp  Humidity  Cloudiness  \\\n",
      "0     Porto-Novo   6.4965    2.6036     25.90        84          89   \n",
      "1    Yellowknife  62.4560 -114.3525    -29.77        82          40   \n",
      "2      Geraldton -28.7667  114.6000     23.96        43          40   \n",
      "3        Iaciara -14.0958  -46.6317     20.72        96         100   \n",
      "4         Hobart -42.8794  147.3294     29.92        35           0   \n",
      "..           ...      ...       ...       ...       ...         ...   \n",
      "554       Laguna  38.4210 -121.4238      7.36        92           1   \n",
      "555       Kupang -10.1667  123.5833     32.32        74          40   \n",
      "556     Ishigaki  24.3448  124.1572     17.07        59          75   \n",
      "557     Humboldt  40.6665 -123.9178      0.28        92          57   \n",
      "558  Burgersdorp -30.9977   26.3286     10.78        72         100   \n",
      "\n",
      "     Wind Speed  \n",
      "0          1.80  \n",
      "1          5.66  \n",
      "2          5.66  \n",
      "3          0.97  \n",
      "4          1.79  \n",
      "..          ...  \n",
      "554        2.57  \n",
      "555        3.09  \n",
      "556        6.69  \n",
      "557        1.71  \n",
      "558        1.45  \n",
      "\n",
      "[559 rows x 7 columns]\n"
     ]
    }
   ],
   "source": [
    "weather_data.to_csv(r'C:\\Users\\anita\\APIs\\weather_data.csv',encoding=\"utf-8\", index = False, header=True)\n",
    "print(weather_data)"
   ]
  },
  {
   "cell_type": "code",
   "execution_count": null,
   "id": "498bba5a",
   "metadata": {},
   "outputs": [],
   "source": []
  }
 ],
 "metadata": {
  "kernelspec": {
   "display_name": "Python 3",
   "language": "python",
   "name": "python3"
  },
  "language_info": {
   "codemirror_mode": {
    "name": "ipython",
    "version": 3
   },
   "file_extension": ".py",
   "mimetype": "text/x-python",
   "name": "python",
   "nbconvert_exporter": "python",
   "pygments_lexer": "ipython3",
   "version": "3.8.8"
  }
 },
 "nbformat": 4,
 "nbformat_minor": 5
}
